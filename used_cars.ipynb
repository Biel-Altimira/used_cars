{
 "cells": [
  {
   "cell_type": "markdown",
   "id": "a762b72f",
   "metadata": {},
   "source": [
    "# Used Cars Dataset\n",
    "## Biel Altimira"
   ]
  },
  {
   "cell_type": "markdown",
   "id": "d71883ad",
   "metadata": {},
   "source": [
    "### 1.Utilitats"
   ]
  },
  {
   "cell_type": "code",
   "execution_count": 2,
   "id": "5c74333c",
   "metadata": {},
   "outputs": [],
   "source": [
    "# Importem les llibreries que necesitem\n",
    "\n",
    "import numpy as np\n",
    "import pandas as pd\n",
    "\n",
    "import matplotlib.pyplot as plt\n",
    "%matplotlib inline\n",
    "import seaborn as sns\n"
   ]
  },
  {
   "cell_type": "code",
   "execution_count": 4,
   "id": "f04294d3",
   "metadata": {},
   "outputs": [],
   "source": [
    "# Carreguem les dades en un datafram de pandas\n",
    "\n",
    "file = (\"vehicles.csv\")\n",
    "data = pd.read_csv(file)"
   ]
  },
  {
   "cell_type": "code",
   "execution_count": 8,
   "id": "01eaaf97",
   "metadata": {},
   "outputs": [],
   "source": [
    "# Opcions pel display de dataframes\n",
    "\n",
    "pd.set_option(\"max_columns\", None)"
   ]
  }
 ],
 "metadata": {
  "kernelspec": {
   "display_name": "Python 3",
   "language": "python",
   "name": "python3"
  },
  "language_info": {
   "codemirror_mode": {
    "name": "ipython",
    "version": 3
   },
   "file_extension": ".py",
   "mimetype": "text/x-python",
   "name": "python",
   "nbconvert_exporter": "python",
   "pygments_lexer": "ipython3",
   "version": "3.9.5"
  }
 },
 "nbformat": 4,
 "nbformat_minor": 5
}
